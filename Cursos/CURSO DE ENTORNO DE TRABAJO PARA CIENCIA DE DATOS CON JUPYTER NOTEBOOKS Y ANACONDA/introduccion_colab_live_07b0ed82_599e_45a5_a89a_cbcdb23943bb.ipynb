{
  "nbformat": 4,
  "nbformat_minor": 0,
  "metadata": {
    "colab": {
      "name": "introduccion_colab_live_07b0ed82-599e-45a5-a89a-cbcdb23943bb.ipynb",
      "provenance": [],
      "collapsed_sections": [
        "Zh3EV2drAyRE",
        "tWT-hVeekJ7Y",
        "EMnwCNzMkKTd"
      ]
    },
    "kernelspec": {
      "display_name": "Python 3",
      "name": "python3"
    },
    "language_info": {
      "name": "python"
    }
  },
  "cells": [
    {
      "cell_type": "markdown",
      "metadata": {
        "id": "VX4AXt1z06p7"
      },
      "source": [
        "# Introducción a Google Colaboratory\n",
        "\n",
        "\n",
        "\n"
      ]
    },
    {
      "cell_type": "markdown",
      "metadata": {
        "id": "3w9hDmeT1RFc"
      },
      "source": [
        "## Ejecución y edición de celdas"
      ]
    },
    {
      "cell_type": "markdown",
      "metadata": {
        "id": "kVycw82U1SNU"
      },
      "source": [
        "### Celdas de código"
      ]
    },
    {
      "cell_type": "code",
      "metadata": {
        "id": "pmj63Cv01Smg",
        "colab": {
          "base_uri": "https://localhost:8080/"
        },
        "outputId": "f91ad15a-0716-4776-e06d-fcf1506dcf09"
      },
      "source": [
        "1 + 2"
      ],
      "execution_count": null,
      "outputs": [
        {
          "output_type": "execute_result",
          "data": {
            "text/plain": [
              "3"
            ]
          },
          "metadata": {
            "tags": []
          },
          "execution_count": 1
        }
      ]
    },
    {
      "cell_type": "markdown",
      "metadata": {
        "id": "BizkQMEJ1bFT"
      },
      "source": [
        "### Celdas de texto"
      ]
    },
    {
      "cell_type": "markdown",
      "metadata": {
        "id": "o1RZy_-O2qwR"
      },
      "source": [
        "#### Texto enriquericido\n",
        "\n",
        "\n"
      ]
    },
    {
      "cell_type": "markdown",
      "metadata": {
        "id": "-OXWFW_u2rNL"
      },
      "source": [
        "#### Imágenes o gifs"
      ]
    },
    {
      "cell_type": "markdown",
      "metadata": {
        "id": "k-Ui7NLh1bLf"
      },
      "source": [
        "![link text](https://media.giphy.com/media/6aGXQxkohixag/giphy.gif)"
      ]
    },
    {
      "cell_type": "markdown",
      "metadata": {
        "id": "RrNr7t6F1bP8"
      },
      "source": [
        "## Variables"
      ]
    },
    {
      "cell_type": "code",
      "metadata": {
        "id": "3jaRCHkS1bTf"
      },
      "source": [
        "variable = \"eres increible\""
      ],
      "execution_count": 1,
      "outputs": []
    },
    {
      "cell_type": "code",
      "metadata": {
        "id": "HiN7Chx11bWf",
        "colab": {
          "base_uri": "https://localhost:8080/"
        },
        "outputId": "c88bd195-30ac-4652-aff4-d07eb07292ba"
      },
      "source": [
        "print (variable)"
      ],
      "execution_count": 2,
      "outputs": [
        {
          "output_type": "stream",
          "name": "stdout",
          "text": [
            "eres increible\n"
          ]
        }
      ]
    },
    {
      "cell_type": "markdown",
      "metadata": {
        "id": "RMzLQ0KF1bZY"
      },
      "source": [
        "## Línea de comandos"
      ]
    },
    {
      "cell_type": "code",
      "metadata": {
        "id": "diJyGyWw3392",
        "colab": {
          "base_uri": "https://localhost:8080/"
        },
        "outputId": "a3ef6481-ab97-4ad0-b960-f273b42cc304"
      },
      "source": [
        "!pwd\n",
        "!ls\n"
      ],
      "execution_count": 4,
      "outputs": [
        {
          "output_type": "stream",
          "name": "stdout",
          "text": [
            "/content\n",
            "sample_data\n"
          ]
        }
      ]
    },
    {
      "cell_type": "markdown",
      "metadata": {
        "id": "IcPvNSH64OGR"
      },
      "source": [
        "## Instalación de librerías"
      ]
    },
    {
      "cell_type": "code",
      "metadata": {
        "id": "_q-ajRSrFK1Q",
        "colab": {
          "base_uri": "https://localhost:8080/"
        },
        "outputId": "ec2d4736-f281-4c5a-fbe8-1d681504d461"
      },
      "source": [
        "!pip install session-info"
      ],
      "execution_count": 5,
      "outputs": [
        {
          "output_type": "stream",
          "name": "stdout",
          "text": [
            "Looking in indexes: https://pypi.org/simple, https://us-python.pkg.dev/colab-wheels/public/simple/\n",
            "Collecting session-info\n",
            "  Downloading session_info-1.0.0.tar.gz (24 kB)\n",
            "Collecting stdlib_list\n",
            "  Downloading stdlib_list-0.8.0-py3-none-any.whl (63 kB)\n",
            "\u001b[K     |████████████████████████████████| 63 kB 2.1 MB/s \n",
            "\u001b[?25hBuilding wheels for collected packages: session-info\n",
            "  Building wheel for session-info (setup.py) ... \u001b[?25l\u001b[?25hdone\n",
            "  Created wheel for session-info: filename=session_info-1.0.0-py3-none-any.whl size=8048 sha256=952a4d38becde7f12b43a3229ca8b7fd13241f7cdbb9c6706628b3c9e5a36667\n",
            "  Stored in directory: /root/.cache/pip/wheels/bd/ad/14/6a42359351a18337a8683854cfbba99dd782271f2d1767f87f\n",
            "Successfully built session-info\n",
            "Installing collected packages: stdlib-list, session-info\n",
            "Successfully installed session-info-1.0.0 stdlib-list-0.8.0\n"
          ]
        }
      ]
    },
    {
      "cell_type": "code",
      "metadata": {
        "id": "EvgpUkAGG1hH"
      },
      "source": [
        "import session_info"
      ],
      "execution_count": 6,
      "outputs": []
    },
    {
      "cell_type": "code",
      "metadata": {
        "id": "XXW_W6F4JjzN",
        "colab": {
          "base_uri": "https://localhost:8080/",
          "height": 277
        },
        "outputId": "784ce406-dad9-4fc5-bf1f-4ead23de4ebe"
      },
      "source": [
        "session_info.show()"
      ],
      "execution_count": 7,
      "outputs": [
        {
          "output_type": "execute_result",
          "data": {
            "text/plain": [
              "<IPython.core.display.HTML object>"
            ],
            "text/html": [
              "<details>\n",
              "<summary>Click to view session information</summary>\n",
              "<pre>\n",
              "-----\n",
              "session_info        1.0.0\n",
              "-----\n",
              "</pre>\n",
              "<details>\n",
              "<summary>Click to view modules imported as dependencies</summary>\n",
              "<pre>\n",
              "PIL                         7.1.2\n",
              "astor                       0.8.1\n",
              "cffi                        1.15.1\n",
              "cycler                      0.10.0\n",
              "cython_runtime              NA\n",
              "dateutil                    2.8.2\n",
              "debugpy                     1.0.0\n",
              "decorator                   4.4.2\n",
              "google                      NA\n",
              "ipykernel                   4.10.1\n",
              "ipython_genutils            0.2.0\n",
              "ipywidgets                  7.7.1\n",
              "kiwisolver                  1.4.3\n",
              "matplotlib                  3.2.2\n",
              "mpl_toolkits                NA\n",
              "numpy                       1.21.6\n",
              "pexpect                     4.8.0\n",
              "pickleshare                 0.7.5\n",
              "pkg_resources               NA\n",
              "portpicker                  NA\n",
              "prompt_toolkit              1.0.18\n",
              "psutil                      5.4.8\n",
              "ptyprocess                  0.7.0\n",
              "pydev_ipython               NA\n",
              "pydevconsole                NA\n",
              "pydevd                      2.0.0\n",
              "pydevd_concurrency_analyser NA\n",
              "pydevd_file_utils           NA\n",
              "pydevd_plugins              NA\n",
              "pydevd_tracing              NA\n",
              "pygments                    2.6.1\n",
              "pyparsing                   3.0.9\n",
              "simplegeneric               NA\n",
              "sitecustomize               NA\n",
              "six                         1.15.0\n",
              "sphinxcontrib               NA\n",
              "storemagic                  NA\n",
              "tornado                     5.1.1\n",
              "traitlets                   5.1.1\n",
              "typing_extensions           NA\n",
              "wcwidth                     0.2.5\n",
              "zmq                         23.2.0\n",
              "</pre>\n",
              "</details> <!-- seems like this ends pre, so might as well be explicit -->\n",
              "<pre>\n",
              "-----\n",
              "IPython             5.5.0\n",
              "jupyter_client      5.3.5\n",
              "jupyter_core        4.11.1\n",
              "notebook            5.3.1\n",
              "-----\n",
              "Python 3.7.13 (default, Apr 24 2022, 01:04:09) [GCC 7.5.0]\n",
              "Linux-5.4.188+-x86_64-with-Ubuntu-18.04-bionic\n",
              "-----\n",
              "Session information updated at 2022-07-15 19:03\n",
              "</pre>\n",
              "</details>"
            ]
          },
          "metadata": {},
          "execution_count": 7
        }
      ]
    },
    {
      "cell_type": "markdown",
      "metadata": {
        "id": "bfbnB1rw437K"
      },
      "source": [
        "### Ciencia de datos"
      ]
    },
    {
      "cell_type": "markdown",
      "metadata": {
        "id": "Zh3EV2drAyRE"
      },
      "source": [
        "### Subir archivos"
      ]
    },
    {
      "cell_type": "code",
      "metadata": {
        "id": "o2zBdfYDAwoT"
      },
      "source": [
        ""
      ],
      "execution_count": null,
      "outputs": []
    },
    {
      "cell_type": "markdown",
      "metadata": {
        "id": "tWT-hVeekJ7Y"
      },
      "source": [
        "### Librerías para Ciencia de Datos\n",
        "\n",
        "- 📊 **matplotlib**: Generación de gráficos a partir de listas o arrays.\n",
        "- 🧑‍💻 **numpy**: Cómputo científico para la manipulación de vectores.\n",
        "- 🧑‍💻 **pandas**: Manipulación y análisis de datos de tablas y series temporales.\n",
        "- 🧑‍💻 **scipy**: Herramientas y algoritmos matemáticos.\n",
        "- 📊 **seaborn**: Visualización de datos estadísticos."
      ]
    },
    {
      "cell_type": "code",
      "metadata": {
        "id": "ARjmm8iZkKGG"
      },
      "source": [
        "import matplotlib.pyplot as plt\n",
        "import numpy as np\n",
        "import pandas as pd\n",
        "import scipy as sc\n",
        "import seaborn as sns"
      ],
      "execution_count": null,
      "outputs": []
    },
    {
      "cell_type": "markdown",
      "metadata": {
        "id": "EMnwCNzMkKTd"
      },
      "source": [
        "### Gráficas"
      ]
    },
    {
      "cell_type": "code",
      "metadata": {
        "id": "YRzwKWVPrsv2"
      },
      "source": [
        "# load an example dataset\n",
        "from vega_datasets import data\n",
        "cars = data.cars()\n",
        "\n",
        "# plot the dataset, referencing dataframe column names\n",
        "import altair as alt\n",
        "alt.Chart(cars).mark_bar().encode(\n",
        "  x=alt.X('Miles_per_Gallon', bin=True),\n",
        "  y='count()',\n",
        ")"
      ],
      "execution_count": null,
      "outputs": []
    },
    {
      "cell_type": "markdown",
      "metadata": {
        "id": "MvJKNGhb8pP8"
      },
      "source": [
        "## Atajos de teclado"
      ]
    }
  ]
}