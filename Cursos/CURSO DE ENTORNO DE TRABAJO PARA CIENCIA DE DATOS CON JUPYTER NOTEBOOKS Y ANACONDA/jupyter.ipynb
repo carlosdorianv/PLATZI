{
 "cells": [
  {
   "cell_type": "code",
   "execution_count": null,
   "metadata": {},
   "outputs": [],
   "source": []
  },
  {
   "cell_type": "code",
   "execution_count": 3,
   "metadata": {},
   "outputs": [
    {
     "name": "stdout",
     "output_type": "stream",
     "text": [
      "Buenas\n"
     ]
    }
   ],
   "source": [
    "print(\"Buenas\")"
   ]
  }
 ],
 "metadata": {
  "kernelspec": {
   "display_name": "Python 3.10.5 64-bit",
   "language": "python",
   "name": "python3"
  },
  "language_info": {
   "codemirror_mode": {
    "name": "ipython",
    "version": 3
   },
   "file_extension": ".py",
   "mimetype": "text/x-python",
   "name": "python",
   "nbconvert_exporter": "python",
   "pygments_lexer": "ipython3",
   "version": "3.10.5"
  },
  "orig_nbformat": 4,
  "vscode": {
   "interpreter": {
    "hash": "86eeae00378619d4801b5702b787b38f2ff390ca238fcee99301e7dca8f82229"
   }
  }
 },
 "nbformat": 4,
 "nbformat_minor": 2
}
